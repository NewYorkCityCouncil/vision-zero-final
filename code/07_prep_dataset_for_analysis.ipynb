{
 "cells": [
  {
   "cell_type": "code",
   "execution_count": 104,
   "metadata": {},
   "outputs": [],
   "source": [
    "import pandas as pd\n",
    "import geopandas as gpd\n",
    "from shapely import wkt"
   ]
  },
  {
   "cell_type": "code",
   "execution_count": 126,
   "metadata": {},
   "outputs": [],
   "source": [
    "# upload\n",
    "\n",
    "intersection_intervention_table = pd.read_csv('../data/output/intersection_intervention_table_final.csv')\n"
   ]
  },
  {
   "attachments": {},
   "cell_type": "markdown",
   "metadata": {},
   "source": [
    "#### Preparing Data For Analysis"
   ]
  },
  {
   "cell_type": "code",
   "execution_count": 127,
   "metadata": {},
   "outputs": [],
   "source": [
    "# creating version that only includes ever-treated intersections\n",
    "# excluding intersections that only ever received citywide speed limit reduction\n",
    "intersection_interventions = ['leading_pedestrian_interval_post', 'turn_traffic_calming_post', 'slow_zones_post', 'signal_retiming_post', 'speed_humps_post', 'street_improvement_project_post', 'street_improvement_corridors_post', 'enhanced_crossing_post']\n",
    "\n",
    "treated_intersection_ids = intersection_intervention_table.loc[(intersection_intervention_table[intersection_interventions] == 1).any(axis=1), 'intersection_id'].unique()\n",
    "intersection_intervention_table_ever_treated = intersection_intervention_table[intersection_intervention_table['intersection_id'].isin(treated_intersection_ids)]\n"
   ]
  },
  {
   "cell_type": "code",
   "execution_count": 128,
   "metadata": {},
   "outputs": [],
   "source": [
    "# find when each intervention was first introduced to each intersection\n",
    "\n",
    "# melt the dataframe to create a long format for interventions\n",
    "df_long = intersection_intervention_table.melt(\n",
    "    id_vars=[\"year\", \"intersection_id\"], \n",
    "    value_vars=intersection_interventions,\n",
    "    var_name=\"intervention\", \n",
    "    value_name=\"turned_on\"\n",
    ")\n",
    "\n",
    "# filter only rows where interventions turned on\n",
    "df_filtered = df_long[df_long[\"turned_on\"] == 1]\n",
    "\n",
    "# identify the year each intervention was first turned on for each intersection\n",
    "intervention_start_dates = df_filtered.groupby([\"intersection_id\", \"intervention\"])[\"year\"].min().reset_index()"
   ]
  },
  {
   "cell_type": "code",
   "execution_count": 108,
   "metadata": {},
   "outputs": [],
   "source": [
    "# narrow down to set of intersections that only received intervention(s) in 2014, 2015, 2016, or 2017 (4 year period)\n",
    "\n",
    "# removing any intersections that received an intervention outside the window\n",
    "outside_intersection_analysis_window = intervention_start_dates[(intervention_start_dates['year'] < 2014) | (intervention_start_dates['year'] > 2017)]\n",
    "intersection_ids_to_remove = outside_intersection_analysis_window['intersection_id'].unique() \n",
    "intersections_inside_treatment_window = intersection_intervention_table_ever_treated[~intersection_intervention_table_ever_treated['intersection_id'].isin(intersection_ids_to_remove)]\n",
    "\n",
    "# limiting to one year before and 2 years after treatment window\n",
    "intersection_pre_post_dataset = intersections_inside_treatment_window[(intersections_inside_treatment_window['year'] >= 2013) & (intersections_inside_treatment_window['year'] <= 2019)]"
   ]
  },
  {
   "cell_type": "code",
   "execution_count": 109,
   "metadata": {},
   "outputs": [],
   "source": [
    "# # if want to include coordinates\n",
    "\n",
    "# nodes_vz = pd.read_csv('../data/output/vz_nodes.csv')\n",
    "# convert = dict(zip(nodes_vz['intersection_id'],nodes_vz['intersection_geom']))\n",
    "\n",
    "# intersection_pre_post_dataset['intersection_geom'] = intersection_pre_post_dataset['intersection_id'].map(convert)\n",
    "# intersection_pre_post_dataset['intersection_geom'] = intersection_pre_post_dataset['intersection_geom'].apply(wkt.loads)\n",
    "# intersection_pre_post_dataset = gpd.GeoDataFrame(intersection_pre_post_dataset, geometry='intersection_geom', crs=\"EPSG:2263\") \n",
    "# intersection_pre_post_dataset['centroid'] = intersection_pre_post_dataset['intersection_geom'].centroid\n",
    "\n",
    "# intersection_pre_post_dataset.drop(columns=['intersection_geom']).to_csv('../data/output/intersection_intervention_table_ever_treated_2014-2018_geocoded.csv', index=False)"
   ]
  },
  {
   "cell_type": "code",
   "execution_count": 110,
   "metadata": {},
   "outputs": [],
   "source": [
    "# download\n",
    "intersection_pre_post_dataset.to_csv('../data/output/intersection_intervention_table_ever_treated_2014-2018.csv', index=False)"
   ]
  },
  {
   "cell_type": "code",
   "execution_count": 111,
   "metadata": {},
   "outputs": [
    {
     "data": {
      "text/html": [
       "<div>\n",
       "<style scoped>\n",
       "    .dataframe tbody tr th:only-of-type {\n",
       "        vertical-align: middle;\n",
       "    }\n",
       "\n",
       "    .dataframe tbody tr th {\n",
       "        vertical-align: top;\n",
       "    }\n",
       "\n",
       "    .dataframe thead th {\n",
       "        text-align: right;\n",
       "    }\n",
       "</style>\n",
       "<table border=\"1\" class=\"dataframe\">\n",
       "  <thead>\n",
       "    <tr style=\"text-align: right;\">\n",
       "      <th></th>\n",
       "      <th>observations</th>\n",
       "    </tr>\n",
       "    <tr>\n",
       "      <th>intervention</th>\n",
       "      <th></th>\n",
       "    </tr>\n",
       "  </thead>\n",
       "  <tbody>\n",
       "    <tr>\n",
       "      <th>leading_pedestrian_interval_post</th>\n",
       "      <td>6160</td>\n",
       "    </tr>\n",
       "    <tr>\n",
       "      <th>turn_traffic_calming_post</th>\n",
       "      <td>315</td>\n",
       "    </tr>\n",
       "    <tr>\n",
       "      <th>slow_zones_post</th>\n",
       "      <td>2856</td>\n",
       "    </tr>\n",
       "    <tr>\n",
       "      <th>signal_retiming_post</th>\n",
       "      <td>24591</td>\n",
       "    </tr>\n",
       "    <tr>\n",
       "      <th>speed_humps_post</th>\n",
       "      <td>4837</td>\n",
       "    </tr>\n",
       "    <tr>\n",
       "      <th>street_improvement_project_post</th>\n",
       "      <td>623</td>\n",
       "    </tr>\n",
       "    <tr>\n",
       "      <th>street_improvement_corridors_post</th>\n",
       "      <td>17829</td>\n",
       "    </tr>\n",
       "    <tr>\n",
       "      <th>enhanced_crossing_post</th>\n",
       "      <td>406</td>\n",
       "    </tr>\n",
       "    <tr>\n",
       "      <th>speed_limit_post</th>\n",
       "      <td>206535</td>\n",
       "    </tr>\n",
       "  </tbody>\n",
       "</table>\n",
       "</div>"
      ],
      "text/plain": [
       "                                   observations\n",
       "intervention                                   \n",
       "leading_pedestrian_interval_post           6160\n",
       "turn_traffic_calming_post                   315\n",
       "slow_zones_post                            2856\n",
       "signal_retiming_post                      24591\n",
       "speed_humps_post                           4837\n",
       "street_improvement_project_post             623\n",
       "street_improvement_corridors_post         17829\n",
       "enhanced_crossing_post                      406\n",
       "speed_limit_post                         206535"
      ]
     },
     "execution_count": 111,
     "metadata": {},
     "output_type": "execute_result"
    }
   ],
   "source": [
    "# looking at number of observations for each intervention\n",
    "# greater number of years\n",
    "\n",
    "obs_dict = {}\n",
    "for intervention in intersection_interventions + ['speed_limit_post']:\n",
    "    obs = len(intersection_pre_post_dataset[intersection_pre_post_dataset[intervention] == 1]['intersection_id'].unique())*7\n",
    "    obs_dict[intervention] = obs\n",
    "\n",
    "obs_count_table = pd.DataFrame.from_dict(obs_dict, orient='index', columns=['observations'])\n",
    "obs_count_table.index.names = ['intervention']\n",
    "obs_count_table.to_csv('../data/output/observations-by-intervention-type_2014-2018.csv')\n",
    "\n",
    "obs_count_table"
   ]
  },
  {
   "cell_type": "code",
   "execution_count": 129,
   "metadata": {},
   "outputs": [],
   "source": [
    "# using wider range of dates\n",
    "\n",
    "# narrow down to set of intersections that only received any intervention between 2015-2022 (7 year period)\n",
    "\n",
    "# removing any intersections that received an intervention outside the window\n",
    "outside_intersection_analysis_window = intervention_start_dates[(intervention_start_dates['year'] < 2015) | (intervention_start_dates['year'] > 2021)]\n",
    "intersection_ids_to_remove = outside_intersection_analysis_window['intersection_id'].unique() \n",
    "intersections_inside_treatment_window = intersection_intervention_table_ever_treated[~intersection_intervention_table_ever_treated['intersection_id'].isin(intersection_ids_to_remove)]\n",
    "\n",
    "# limiting to two years before and year after treatment window\n",
    "intersection_pre_post_dataset_more_years = intersections_inside_treatment_window[(intersections_inside_treatment_window['year'] >= 2013) & (intersections_inside_treatment_window['year'] <= 2023)]"
   ]
  },
  {
   "cell_type": "code",
   "execution_count": 113,
   "metadata": {},
   "outputs": [],
   "source": [
    "# # if want to include coordinates\n",
    "\n",
    "# nodes_vz = pd.read_csv('../data/output/vz_nodes.csv')\n",
    "# convert = dict(zip(nodes_vz['intersection_id'],nodes_vz['intersection_geom']))\n",
    "\n",
    "# intersection_pre_post_dataset_more_years['intersection_geom'] = intersection_pre_post_dataset_more_years['intersection_id'].map(convert)\n",
    "# intersection_pre_post_dataset_more_years['intersection_geom'] = intersection_pre_post_dataset_more_years['intersection_geom'].apply(wkt.loads)\n",
    "# intersection_pre_post_dataset_more_years = gpd.GeoDataFrame(intersection_pre_post_dataset_more_years, geometry='intersection_geom', crs=\"EPSG:2263\") \n",
    "# intersection_pre_post_dataset_more_years['centroid'] = intersection_pre_post_dataset_more_years['intersection_geom'].centroid\n",
    "\n",
    "# intersection_pre_post_dataset_more_years.drop(columns=['intersection_geom']).to_csv('../data/output/intersection_intervention_table_ever_treated_2015-2022_geocoded.csv', index=False)"
   ]
  },
  {
   "cell_type": "code",
   "execution_count": 130,
   "metadata": {},
   "outputs": [],
   "source": [
    "# download\n",
    "intersection_pre_post_dataset_more_years.to_csv('../data/output/intersection_intervention_table_ever_treated_2015-2022.csv', index=False)"
   ]
  },
  {
   "cell_type": "code",
   "execution_count": 131,
   "metadata": {},
   "outputs": [
    {
     "data": {
      "text/html": [
       "<div>\n",
       "<style scoped>\n",
       "    .dataframe tbody tr th:only-of-type {\n",
       "        vertical-align: middle;\n",
       "    }\n",
       "\n",
       "    .dataframe tbody tr th {\n",
       "        vertical-align: top;\n",
       "    }\n",
       "\n",
       "    .dataframe thead th {\n",
       "        text-align: right;\n",
       "    }\n",
       "</style>\n",
       "<table border=\"1\" class=\"dataframe\">\n",
       "  <thead>\n",
       "    <tr style=\"text-align: right;\">\n",
       "      <th></th>\n",
       "      <th>observations</th>\n",
       "    </tr>\n",
       "    <tr>\n",
       "      <th>intervention</th>\n",
       "      <th></th>\n",
       "    </tr>\n",
       "  </thead>\n",
       "  <tbody>\n",
       "    <tr>\n",
       "      <th>leading_pedestrian_interval_post</th>\n",
       "      <td>24717</td>\n",
       "    </tr>\n",
       "    <tr>\n",
       "      <th>turn_traffic_calming_post</th>\n",
       "      <td>2618</td>\n",
       "    </tr>\n",
       "    <tr>\n",
       "      <th>slow_zones_post</th>\n",
       "      <td>4389</td>\n",
       "    </tr>\n",
       "    <tr>\n",
       "      <th>signal_retiming_post</th>\n",
       "      <td>55176</td>\n",
       "    </tr>\n",
       "    <tr>\n",
       "      <th>speed_humps_post</th>\n",
       "      <td>13541</td>\n",
       "    </tr>\n",
       "    <tr>\n",
       "      <th>street_improvement_project_post</th>\n",
       "      <td>2255</td>\n",
       "    </tr>\n",
       "    <tr>\n",
       "      <th>street_improvement_corridors_post</th>\n",
       "      <td>49247</td>\n",
       "    </tr>\n",
       "    <tr>\n",
       "      <th>enhanced_crossing_post</th>\n",
       "      <td>1221</td>\n",
       "    </tr>\n",
       "    <tr>\n",
       "      <th>speed_limit_post</th>\n",
       "      <td>101189</td>\n",
       "    </tr>\n",
       "  </tbody>\n",
       "</table>\n",
       "</div>"
      ],
      "text/plain": [
       "                                   observations\n",
       "intervention                                   \n",
       "leading_pedestrian_interval_post          24717\n",
       "turn_traffic_calming_post                  2618\n",
       "slow_zones_post                            4389\n",
       "signal_retiming_post                      55176\n",
       "speed_humps_post                          13541\n",
       "street_improvement_project_post            2255\n",
       "street_improvement_corridors_post         49247\n",
       "enhanced_crossing_post                     1221\n",
       "speed_limit_post                         101189"
      ]
     },
     "execution_count": 131,
     "metadata": {},
     "output_type": "execute_result"
    }
   ],
   "source": [
    "# looking at number of observations for each intervention\n",
    "\n",
    "obs_dict = {}\n",
    "for intervention in intersection_interventions + ['speed_limit_post']:\n",
    "    obs = len(intersection_pre_post_dataset_more_years[intersection_pre_post_dataset_more_years[intervention] == 1]['intersection_id'].unique())*11\n",
    "    obs_dict[intervention] = obs\n",
    "\n",
    "obs_count_table = pd.DataFrame.from_dict(obs_dict, orient='index', columns=['observations'])\n",
    "obs_count_table.index.names = ['intervention']\n",
    "obs_count_table.to_csv('../data/output/observations-by-intervention-type_2015-2022.csv')\n",
    "\n",
    "obs_count_table"
   ]
  },
  {
   "attachments": {},
   "cell_type": "markdown",
   "metadata": {},
   "source": [
    "#### Speed Limit Analysis"
   ]
  },
  {
   "attachments": {},
   "cell_type": "markdown",
   "metadata": {},
   "source": [
    "Will be used as a robustness checks"
   ]
  },
  {
   "cell_type": "code",
   "execution_count": 132,
   "metadata": {},
   "outputs": [],
   "source": [
    "# finding intersections that were only ever treated with the speed limit change\n",
    "\n",
    "speed_limit_intersection_interventions = intersection_interventions \n",
    "\n",
    "# melt the dataframe to create a long format for interventions\n",
    "df_long_sl = intersection_intervention_table.melt(\n",
    "    id_vars=[\"year\", \"intersection_id\"], \n",
    "    value_vars=speed_limit_intersection_interventions,\n",
    "    var_name=\"intervention\", \n",
    "    value_name=\"turned_on\"\n",
    ")\n",
    "\n",
    "# filter only rows where interventions turned on\n",
    "df_filtered_sl = df_long_sl[df_long_sl[\"turned_on\"] == 1]\n",
    "\n",
    "intervention_dict = (\n",
    "    df_filtered_sl[df_filtered_sl['turned_on'] == 1]\n",
    "    .groupby('intersection_id')['intervention']\n",
    "    .unique()\n",
    "    .apply(list)\n",
    "    .to_dict()\n",
    ")\n",
    "\n",
    "only_speed_limit = {\n",
    "    inter_id: interventions\n",
    "    for inter_id, interventions in intervention_dict.items()\n",
    "    if interventions == ['speed_limit_post']\n",
    "}\n",
    "\n",
    "# creating df\n",
    "speed_limit_intervention_df = intersection_intervention_table[intersection_intervention_table['intersection_id'].isin(only_speed_limit)].drop(columns=intersection_interventions)\n",
    "\n",
    "# narrow down to 2013-2023 to match other dataset's observation period\n",
    "speed_limit_intervention_df = speed_limit_intervention_df[(speed_limit_intervention_df['year'] >= 2013) & (speed_limit_intervention_df['year'] <= 2023)]\n",
    "\n",
    "# download\n",
    "speed_limit_intervention_df.to_csv('../data/output/speed_limit_intervention_table.csv', index=False)"
   ]
  },
  {
   "cell_type": "code",
   "execution_count": 135,
   "metadata": {},
   "outputs": [],
   "source": [
    "# seperate version that combines those only treated with speed limit + the original dataset\n",
    "# so essentially just a complete ever treated dataset without any exclusions\n",
    "\n",
    "# creating version that only includes ever-treated intersections\n",
    "# including intersections that only ever received citywide speed limit reduction\n",
    "intersection_interventions = ['leading_pedestrian_interval_post', 'turn_traffic_calming_post', 'slow_zones_post', 'signal_retiming_post', 'speed_humps_post', 'street_improvement_project_post', 'street_improvement_corridors_post', 'enhanced_crossing_post', 'speed_limit_post']\n",
    "treated_intersection_ids = intersection_intervention_table.loc[(intersection_intervention_table[intersection_interventions] == 1).any(axis=1), 'intersection_id'].unique()\n",
    "intersection_intervention_table_ever_treated = intersection_intervention_table[intersection_intervention_table['intersection_id'].isin(treated_intersection_ids)]\n",
    "\n",
    "# narrow down to set of intersections that only received any intervention between 2015-2022 + those that only received the speed limit\n",
    "# removing any intersections that received an intervention outside the window\n",
    "outside_intersection_analysis_window = intervention_start_dates[(intervention_start_dates['year'] < 2015) | (intervention_start_dates['year'] > 2021)]\n",
    "outside_intersection_analysis_window = outside_intersection_analysis_window[outside_intersection_analysis_window['intervention'] != 'speed_limit_post']\n",
    "intersection_ids_to_remove = outside_intersection_analysis_window['intersection_id'].unique() \n",
    "intersections_inside_treatment_window = intersection_intervention_table_ever_treated[~intersection_intervention_table_ever_treated['intersection_id'].isin(intersection_ids_to_remove)]\n",
    "\n",
    "# limiting to two years before and year after treatment window\n",
    "intersection_pre_post_dataset_w_sl = intersections_inside_treatment_window[(intersections_inside_treatment_window['year'] >= 2013) & (intersections_inside_treatment_window['year'] <= 2023)]\n",
    "\n",
    "# download\n",
    "intersection_pre_post_dataset_w_sl.to_csv('../data/output/full_ever_treated_dataset.csv', index=False)"
   ]
  }
 ],
 "metadata": {
  "kernelspec": {
   "display_name": "Python 3",
   "language": "python",
   "name": "python3"
  },
  "language_info": {
   "codemirror_mode": {
    "name": "ipython",
    "version": 3
   },
   "file_extension": ".py",
   "mimetype": "text/x-python",
   "name": "python",
   "nbconvert_exporter": "python",
   "pygments_lexer": "ipython3",
   "version": "3.9.17"
  },
  "orig_nbformat": 4
 },
 "nbformat": 4,
 "nbformat_minor": 2
}
