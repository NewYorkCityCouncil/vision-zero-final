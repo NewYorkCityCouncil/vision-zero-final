{
 "cells": [
  {
   "cell_type": "code",
   "execution_count": 1,
   "metadata": {},
   "outputs": [],
   "source": [
    "import pandas as pd\n",
    "import geopandas as gpd\n",
    "from shapely import wkt\n",
    "from geopandas import GeoDataFrame\n",
    "from itertools import product"
   ]
  },
  {
   "cell_type": "code",
   "execution_count": 2,
   "metadata": {},
   "outputs": [
    {
     "name": "stderr",
     "output_type": "stream",
     "text": [
      "/var/folders/h8/89nv1tln6q3bmqwvmdy5g4br0000gs/T/ipykernel_2840/484371694.py:3: DtypeWarning: Columns (6) have mixed types. Specify dtype option on import or set low_memory=False.\n",
      "  nyc_intersections_vz = pd.read_csv('../data/output/collisions-merged-with-intersections.csv')\n"
     ]
    }
   ],
   "source": [
    "# intersection dataset\n",
    "\n",
    "nyc_intersections_vz = pd.read_csv('../data/output/collisions-merged-with-intersections.csv')\n",
    "nyc_intersections_vz['intersection_geom'] = nyc_intersections_vz['intersection_geom'].apply(wkt.loads)\n",
    "nyc_intersections_vz['street_geom'] = nyc_intersections_vz['street_geom'].apply(wkt.loads)\n",
    "# nyc_intersections_vz['node_geom'] = nyc_intersections_vz['master_geom'].apply(wkt.loads)\n",
    "nyc_intersections_vz = gpd.GeoDataFrame(nyc_intersections_vz, geometry='intersection_geom', crs='epsg:2263')"
   ]
  },
  {
   "cell_type": "code",
   "execution_count": 3,
   "metadata": {},
   "outputs": [],
   "source": [
    "# creating blank table with a row for each intersection at each year interval \n",
    "\n",
    "# create datetime range (span of time that crash data is available)\n",
    "nyc_intersections_vz['crash_date'] = pd.to_datetime(nyc_intersections_vz['crash_date'], errors='coerce')\n",
    "start_date = nyc_intersections_vz[nyc_intersections_vz['crash_date'].notnull()]['crash_date'].dt.year.min() \n",
    "end_date = nyc_intersections_vz[nyc_intersections_vz['crash_date'].notnull()]['crash_date'].dt.year.max()\n",
    "vz_dates = list(range(start_date, end_date+1))\n",
    "\n",
    "# all nyc intersections\n",
    "nyc_intersections = nyc_intersections_vz['intersection_id'].unique()\n",
    "\n",
    "# create product of street names and dates using itertools.product\n",
    "product_ = list(product(nyc_intersections, vz_dates))\n",
    "intersection_intervention_table = pd.DataFrame()\n",
    "intersection_intervention_table = intersection_intervention_table.assign(intersection_year = product_)\n",
    "\n",
    "# also keeping two separate columns\n",
    "intersection_intervention_table = intersection_intervention_table.assign(intersection_id=intersection_intervention_table['intersection_year'].str.get(0),\n",
    "                                                                         year=intersection_intervention_table['intersection_year'].str.get(1))"
   ]
  },
  {
   "cell_type": "code",
   "execution_count": 23,
   "metadata": {},
   "outputs": [
    {
     "data": {
      "text/html": [
       "<div>\n",
       "<style scoped>\n",
       "    .dataframe tbody tr th:only-of-type {\n",
       "        vertical-align: middle;\n",
       "    }\n",
       "\n",
       "    .dataframe tbody tr th {\n",
       "        vertical-align: top;\n",
       "    }\n",
       "\n",
       "    .dataframe thead th {\n",
       "        text-align: right;\n",
       "    }\n",
       "</style>\n",
       "<table border=\"1\" class=\"dataframe\">\n",
       "  <thead>\n",
       "    <tr style=\"text-align: right;\">\n",
       "      <th></th>\n",
       "      <th>intersection_year</th>\n",
       "      <th>intersection_id</th>\n",
       "      <th>year</th>\n",
       "    </tr>\n",
       "  </thead>\n",
       "  <tbody>\n",
       "    <tr>\n",
       "      <th>0</th>\n",
       "      <td>(50014.0, 2013)</td>\n",
       "      <td>50014.0</td>\n",
       "      <td>2013</td>\n",
       "    </tr>\n",
       "    <tr>\n",
       "      <th>1</th>\n",
       "      <td>(50014.0, 2014)</td>\n",
       "      <td>50014.0</td>\n",
       "      <td>2014</td>\n",
       "    </tr>\n",
       "    <tr>\n",
       "      <th>2</th>\n",
       "      <td>(50014.0, 2015)</td>\n",
       "      <td>50014.0</td>\n",
       "      <td>2015</td>\n",
       "    </tr>\n",
       "    <tr>\n",
       "      <th>3</th>\n",
       "      <td>(50014.0, 2016)</td>\n",
       "      <td>50014.0</td>\n",
       "      <td>2016</td>\n",
       "    </tr>\n",
       "    <tr>\n",
       "      <th>4</th>\n",
       "      <td>(50014.0, 2017)</td>\n",
       "      <td>50014.0</td>\n",
       "      <td>2017</td>\n",
       "    </tr>\n",
       "    <tr>\n",
       "      <th>...</th>\n",
       "      <td>...</td>\n",
       "      <td>...</td>\n",
       "      <td>...</td>\n",
       "    </tr>\n",
       "    <tr>\n",
       "      <th>564175</th>\n",
       "      <td>(9083319.0, 2020)</td>\n",
       "      <td>9083319.0</td>\n",
       "      <td>2020</td>\n",
       "    </tr>\n",
       "    <tr>\n",
       "      <th>564176</th>\n",
       "      <td>(9083319.0, 2021)</td>\n",
       "      <td>9083319.0</td>\n",
       "      <td>2021</td>\n",
       "    </tr>\n",
       "    <tr>\n",
       "      <th>564177</th>\n",
       "      <td>(9083319.0, 2022)</td>\n",
       "      <td>9083319.0</td>\n",
       "      <td>2022</td>\n",
       "    </tr>\n",
       "    <tr>\n",
       "      <th>564178</th>\n",
       "      <td>(9083319.0, 2023)</td>\n",
       "      <td>9083319.0</td>\n",
       "      <td>2023</td>\n",
       "    </tr>\n",
       "    <tr>\n",
       "      <th>564179</th>\n",
       "      <td>(9083319.0, 2024)</td>\n",
       "      <td>9083319.0</td>\n",
       "      <td>2024</td>\n",
       "    </tr>\n",
       "  </tbody>\n",
       "</table>\n",
       "<p>564180 rows × 3 columns</p>\n",
       "</div>"
      ],
      "text/plain": [
       "        intersection_year  intersection_id  year\n",
       "0         (50014.0, 2013)          50014.0  2013\n",
       "1         (50014.0, 2014)          50014.0  2014\n",
       "2         (50014.0, 2015)          50014.0  2015\n",
       "3         (50014.0, 2016)          50014.0  2016\n",
       "4         (50014.0, 2017)          50014.0  2017\n",
       "...                   ...              ...   ...\n",
       "564175  (9083319.0, 2020)        9083319.0  2020\n",
       "564176  (9083319.0, 2021)        9083319.0  2021\n",
       "564177  (9083319.0, 2022)        9083319.0  2022\n",
       "564178  (9083319.0, 2023)        9083319.0  2023\n",
       "564179  (9083319.0, 2024)        9083319.0  2024\n",
       "\n",
       "[564180 rows x 3 columns]"
      ]
     },
     "execution_count": 23,
     "metadata": {},
     "output_type": "execute_result"
    }
   ],
   "source": [
    "intersection_intervention_table "
   ]
  },
  {
   "cell_type": "code",
   "execution_count": 24,
   "metadata": {},
   "outputs": [],
   "source": [
    "# creating intersection_year column in dataset to make merging with intersection_intervention_table possible below\n",
    "\n",
    "# narrowing down to each instance of a collision that led to a death or injury\n",
    "collisions = nyc_intersections_vz[nyc_intersections_vz['collision_id'].notnull()].drop_duplicates(subset=['collision_id']) \n",
    "collisions['year'] = collisions['crash_date'].dt.year\n",
    "# merging two columns\n",
    "collisions['intersection_year'] = list(zip(collisions['intersection_id'], collisions['year']))"
   ]
  },
  {
   "cell_type": "code",
   "execution_count": 25,
   "metadata": {},
   "outputs": [],
   "source": [
    "# adding outcome columns to vz tables\n",
    "\n",
    "# intersections\n",
    "vehicle_collisions_by_year = collisions[['intersection_year', 'collision_id', 'pedestrian_death_or_injury']].groupby('intersection_year').agg({'pedestrian_death_or_injury': 'sum', 'collision_id': 'count'})\n",
    "vehicle_collisions_by_year = vehicle_collisions_by_year.rename(columns={'collision_id': 'total_death_or_injury'})\n",
    "\n",
    "# merge datasets using a left merge, creating a table that has crash data for every intersection-year\n",
    "intersection_intervention_table = intersection_intervention_table.merge(vehicle_collisions_by_year, how='left', on='intersection_year') \n",
    "# fill NaN values in the merged columns with 0\n",
    "intersection_intervention_table['pedestrian_death_or_injury'] = intersection_intervention_table['pedestrian_death_or_injury'].fillna(0) \n",
    "intersection_intervention_table['total_death_or_injury'] = intersection_intervention_table['total_death_or_injury'].fillna(0)"
   ]
  },
  {
   "cell_type": "code",
   "execution_count": 26,
   "metadata": {},
   "outputs": [],
   "source": [
    "# downloading\n",
    "\n",
    "intersection_intervention_table.drop(columns=['intersection_year']).to_csv('../data/output/intersection_intervention_table_initial.csv', index=False)"
   ]
  },
  {
   "cell_type": "code",
   "execution_count": null,
   "metadata": {},
   "outputs": [],
   "source": []
  }
 ],
 "metadata": {
  "kernelspec": {
   "display_name": "Python 3",
   "language": "python",
   "name": "python3"
  },
  "language_info": {
   "codemirror_mode": {
    "name": "ipython",
    "version": 3
   },
   "file_extension": ".py",
   "mimetype": "text/x-python",
   "name": "python",
   "nbconvert_exporter": "python",
   "pygments_lexer": "ipython3",
   "version": "3.9.17"
  },
  "orig_nbformat": 4
 },
 "nbformat": 4,
 "nbformat_minor": 2
}
